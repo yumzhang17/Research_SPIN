{
 "cells": [
  {
   "cell_type": "markdown",
   "id": "b809cebd-8a7e-41f9-896c-ecd9ac1732df",
   "metadata": {},
   "source": [
    "This is to organize/summarize Yumeng's First Project.\n",
    "\n",
    "Project Date: 2020/01-2020/06\n",
    "\n",
    "Date: 2022/09\n",
    "\n",
    "# Inner Immune Inhibition: SPIN/MPO\n",
    "\n",
    "---\n",
    "The bacterium *Staphylococcus* can infect humans and cause a lot of diseases, which significantly threads public health. By secreting one specific enzyme, <u>S</u>taphylococcus <u>P</u>eroxidase <u>IN</u>hibitor (SPIN), the bacterium can evade the killing of the human immune system activated by the myeloperoxidase (MPO). Therefore, there is an urgent need for us to investigate useful drugs to resist bacterial infections.\n",
    "\n",
    "## Ref:\n",
    "\n",
    "1. https://doi.org/10.1074/jbc.RA117.000134\n",
    "2. https://doi.org/10.1016/j.abb.2018.03.007\n",
    "3. https://doi.org/10.1073/pnas.1707032114\n",
    "\n",
    "Please Checout For_manu_suammary.ipynb file for details.\n",
    "\n",
    "\n"
   ]
  }
 ],
 "metadata": {
  "kernelspec": {
   "display_name": "Python 3.9 (m3tr)",
   "language": "python",
   "name": "m3tr"
  },
  "language_info": {
   "codemirror_mode": {
    "name": "ipython",
    "version": 3
   },
   "file_extension": ".py",
   "mimetype": "text/x-python",
   "name": "python",
   "nbconvert_exporter": "python",
   "pygments_lexer": "ipython3",
   "version": "3.9.13"
  }
 },
 "nbformat": 4,
 "nbformat_minor": 5
}
